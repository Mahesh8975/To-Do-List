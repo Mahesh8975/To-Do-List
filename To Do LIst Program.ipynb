{
 "cells": [
  {
   "cell_type": "code",
   "execution_count": 1,
   "id": "c6ea8794",
   "metadata": {},
   "outputs": [
    {
     "ename": "IndentationError",
     "evalue": "unexpected indent (1618610628.py, line 2)",
     "output_type": "error",
     "traceback": [
      "\u001b[1;36m  Cell \u001b[1;32mIn[1], line 2\u001b[1;36m\u001b[0m\n\u001b[1;33m    tasks = []\u001b[0m\n\u001b[1;37m    ^\u001b[0m\n\u001b[1;31mIndentationError\u001b[0m\u001b[1;31m:\u001b[0m unexpected indent\n"
     ]
    }
   ],
   "source": [
    "# Creating an empty list.\n",
    "    tasks = []\n",
    "\n",
    "# Function to add a task to the list.\n",
    "def add task(task):\n",
    "    tasks.append(task)\n",
    "    print9f(\"Task 'task'add to do list\")\n",
    "\n",
    "# Function to view all tasks.\n",
    "def view_tasks():\n",
    "    if not tasks:\n",
    "        print(\"No tasks in the list.\")\n",
    "        else:\n",
    "            print(\"To-Do-List: \")\n",
    "            for i, task in enumerate(tasks, start=1):\n",
    "                print(f\"{i}.{task}\")\n",
    " # Function to remove a task by its index\n",
    "def remove_task(index):\n",
    "    if 1<= index <=len(tasks):\n",
    "        removed_task = tasks.pop(index - 1)\n",
    "        print(f\"Task '{removed_task}' removed form the to-do list.\")\n",
    "        else:\n",
    "            pint(\"invalid task index. Please provide a valid index.\")"
   ]
  },
  {
   "cell_type": "code",
   "execution_count": 3,
   "id": "8937c9d3",
   "metadata": {},
   "outputs": [
    {
     "ename": "IndentationError",
     "evalue": "unindent does not match any outer indentation level (<tokenize>, line 9)",
     "output_type": "error",
     "traceback": [
      "\u001b[1;36m  File \u001b[1;32m<tokenize>:9\u001b[1;36m\u001b[0m\n\u001b[1;33m    choice = input (\"Enter your choice: \")\u001b[0m\n\u001b[1;37m    ^\u001b[0m\n\u001b[1;31mIndentationError\u001b[0m\u001b[1;31m:\u001b[0m unindent does not match any outer indentation level\n"
     ]
    }
   ],
   "source": [
    "#Main loop for the to-do list application.\n",
    "while True:\n",
    "    print(\"\\n Option: \")\n",
    "    print(\"1. Add a task\")\n",
    "    print(\"2. view Tasks\")\n",
    "    print(\"3. Remove a task\")\n",
    "    print(\"4. Quit\")\n",
    "      \n",
    "   choice = input (\"Enter your choice: \")\n",
    " \n",
    "    if choice == \"1\":\n",
    "        task =input(\"Enter the tasks: \")\n",
    "        add_task(task)   \n",
    "    elif choice == \"2\"\n",
    "        view_tasks()\n",
    "    elif choice == \"3\"\n",
    "        index =int(input(\"Enter the index of the task to remove: \"))\n",
    "        remove_task(index)|\n",
    "    elif choice == \"4\"\n",
    "        print(\"Goodbuy!\")\n",
    "        break\n",
    "        else:\n",
    "            print(\"Invalid Choice Please select a valid option.\")\n",
    "            "
   ]
  },
  {
   "cell_type": "code",
   "execution_count": null,
   "id": "11ac159d",
   "metadata": {},
   "outputs": [],
   "source": []
  }
 ],
 "metadata": {
  "kernelspec": {
   "display_name": "Python 3 (ipykernel)",
   "language": "python",
   "name": "python3"
  },
  "language_info": {
   "codemirror_mode": {
    "name": "ipython",
    "version": 3
   },
   "file_extension": ".py",
   "mimetype": "text/x-python",
   "name": "python",
   "nbconvert_exporter": "python",
   "pygments_lexer": "ipython3",
   "version": "3.11.5"
  }
 },
 "nbformat": 4,
 "nbformat_minor": 5
}
